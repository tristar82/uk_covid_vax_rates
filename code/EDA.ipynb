{
 "cells": [
  {
   "cell_type": "code",
   "execution_count": 13,
   "metadata": {},
   "outputs": [],
   "source": [
    "import pandas as pd\n",
    "from datetime import datetime\n",
    "import matplotlib.pyplot as plt"
   ]
  },
  {
   "cell_type": "code",
   "execution_count": 5,
   "metadata": {},
   "outputs": [],
   "source": [
    "dfd = pd.read_csv('../data/first_dose.csv')\n",
    "dsd = pd.read_csv('../data/second_dose.csv')\n",
    "dtd = pd.read_csv('../data/total_doses.csv')\n",
    "dpop = pd.read_csv('../data/uk_population.csv')"
   ]
  },
  {
   "cell_type": "code",
   "execution_count": 28,
   "metadata": {},
   "outputs": [
    {
     "data": {
      "text/html": [
       "<div>\n",
       "<style scoped>\n",
       "    .dataframe tbody tr th:only-of-type {\n",
       "        vertical-align: middle;\n",
       "    }\n",
       "\n",
       "    .dataframe tbody tr th {\n",
       "        vertical-align: top;\n",
       "    }\n",
       "\n",
       "    .dataframe thead th {\n",
       "        text-align: right;\n",
       "    }\n",
       "</style>\n",
       "<table border=\"1\" class=\"dataframe\">\n",
       "  <thead>\n",
       "    <tr style=\"text-align: right;\">\n",
       "      <th></th>\n",
       "      <th>areaType</th>\n",
       "      <th>areaName</th>\n",
       "      <th>areaCode</th>\n",
       "      <th>date</th>\n",
       "      <th>newPeopleVaccinatedFirstDoseByPublishDate</th>\n",
       "      <th>cumPeopleVaccinatedFirstDoseByPublishDate</th>\n",
       "      <th>dt</th>\n",
       "    </tr>\n",
       "  </thead>\n",
       "  <tbody>\n",
       "    <tr>\n",
       "      <th>0</th>\n",
       "      <td>overview</td>\n",
       "      <td>United Kingdom</td>\n",
       "      <td>K02000001</td>\n",
       "      <td>2021-04-08</td>\n",
       "      <td>96242.0</td>\n",
       "      <td>31903366</td>\n",
       "      <td>2021-04-08</td>\n",
       "    </tr>\n",
       "    <tr>\n",
       "      <th>1</th>\n",
       "      <td>overview</td>\n",
       "      <td>United Kingdom</td>\n",
       "      <td>K02000001</td>\n",
       "      <td>2021-04-07</td>\n",
       "      <td>99530.0</td>\n",
       "      <td>31807124</td>\n",
       "      <td>2021-04-07</td>\n",
       "    </tr>\n",
       "    <tr>\n",
       "      <th>2</th>\n",
       "      <td>overview</td>\n",
       "      <td>United Kingdom</td>\n",
       "      <td>K02000001</td>\n",
       "      <td>2021-04-06</td>\n",
       "      <td>85227.0</td>\n",
       "      <td>31707594</td>\n",
       "      <td>2021-04-06</td>\n",
       "    </tr>\n",
       "  </tbody>\n",
       "</table>\n",
       "</div>"
      ],
      "text/plain": [
       "   areaType        areaName   areaCode        date  \\\n",
       "0  overview  United Kingdom  K02000001  2021-04-08   \n",
       "1  overview  United Kingdom  K02000001  2021-04-07   \n",
       "2  overview  United Kingdom  K02000001  2021-04-06   \n",
       "\n",
       "   newPeopleVaccinatedFirstDoseByPublishDate  \\\n",
       "0                                    96242.0   \n",
       "1                                    99530.0   \n",
       "2                                    85227.0   \n",
       "\n",
       "   cumPeopleVaccinatedFirstDoseByPublishDate          dt  \n",
       "0                                   31903366  2021-04-08  \n",
       "1                                   31807124  2021-04-07  \n",
       "2                                   31707594  2021-04-06  "
      ]
     },
     "metadata": {},
     "output_type": "display_data"
    },
    {
     "name": "stdout",
     "output_type": "stream",
     "text": [
      "----\n"
     ]
    },
    {
     "data": {
      "text/html": [
       "<div>\n",
       "<style scoped>\n",
       "    .dataframe tbody tr th:only-of-type {\n",
       "        vertical-align: middle;\n",
       "    }\n",
       "\n",
       "    .dataframe tbody tr th {\n",
       "        vertical-align: top;\n",
       "    }\n",
       "\n",
       "    .dataframe thead th {\n",
       "        text-align: right;\n",
       "    }\n",
       "</style>\n",
       "<table border=\"1\" class=\"dataframe\">\n",
       "  <thead>\n",
       "    <tr style=\"text-align: right;\">\n",
       "      <th></th>\n",
       "      <th>areaType</th>\n",
       "      <th>areaName</th>\n",
       "      <th>areaCode</th>\n",
       "      <th>date</th>\n",
       "      <th>newPeopleVaccinatedSecondDoseByPublishDate</th>\n",
       "      <th>cumPeopleVaccinatedSecondDoseByPublishDate</th>\n",
       "      <th>dt</th>\n",
       "    </tr>\n",
       "  </thead>\n",
       "  <tbody>\n",
       "    <tr>\n",
       "      <th>0</th>\n",
       "      <td>overview</td>\n",
       "      <td>United Kingdom</td>\n",
       "      <td>K02000001</td>\n",
       "      <td>2021-04-08</td>\n",
       "      <td>449269.0</td>\n",
       "      <td>6541174</td>\n",
       "      <td>2021-04-08</td>\n",
       "    </tr>\n",
       "    <tr>\n",
       "      <th>1</th>\n",
       "      <td>overview</td>\n",
       "      <td>United Kingdom</td>\n",
       "      <td>K02000001</td>\n",
       "      <td>2021-04-07</td>\n",
       "      <td>408396.0</td>\n",
       "      <td>6091905</td>\n",
       "      <td>2021-04-07</td>\n",
       "    </tr>\n",
       "    <tr>\n",
       "      <th>2</th>\n",
       "      <td>overview</td>\n",
       "      <td>United Kingdom</td>\n",
       "      <td>K02000001</td>\n",
       "      <td>2021-04-06</td>\n",
       "      <td>186793.0</td>\n",
       "      <td>5683509</td>\n",
       "      <td>2021-04-06</td>\n",
       "    </tr>\n",
       "  </tbody>\n",
       "</table>\n",
       "</div>"
      ],
      "text/plain": [
       "   areaType        areaName   areaCode        date  \\\n",
       "0  overview  United Kingdom  K02000001  2021-04-08   \n",
       "1  overview  United Kingdom  K02000001  2021-04-07   \n",
       "2  overview  United Kingdom  K02000001  2021-04-06   \n",
       "\n",
       "   newPeopleVaccinatedSecondDoseByPublishDate  \\\n",
       "0                                    449269.0   \n",
       "1                                    408396.0   \n",
       "2                                    186793.0   \n",
       "\n",
       "   cumPeopleVaccinatedSecondDoseByPublishDate          dt  \n",
       "0                                     6541174  2021-04-08  \n",
       "1                                     6091905  2021-04-07  \n",
       "2                                     5683509  2021-04-06  "
      ]
     },
     "metadata": {},
     "output_type": "display_data"
    },
    {
     "name": "stdout",
     "output_type": "stream",
     "text": [
      "----\n"
     ]
    },
    {
     "data": {
      "text/html": [
       "<div>\n",
       "<style scoped>\n",
       "    .dataframe tbody tr th:only-of-type {\n",
       "        vertical-align: middle;\n",
       "    }\n",
       "\n",
       "    .dataframe tbody tr th {\n",
       "        vertical-align: top;\n",
       "    }\n",
       "\n",
       "    .dataframe thead th {\n",
       "        text-align: right;\n",
       "    }\n",
       "</style>\n",
       "<table border=\"1\" class=\"dataframe\">\n",
       "  <thead>\n",
       "    <tr style=\"text-align: right;\">\n",
       "      <th></th>\n",
       "      <th>areaType</th>\n",
       "      <th>areaName</th>\n",
       "      <th>areaCode</th>\n",
       "      <th>date</th>\n",
       "      <th>newVaccinesGivenByPublishDate</th>\n",
       "      <th>cumVaccinesGivenByPublishDate</th>\n",
       "      <th>newPeopleVaccinatedFirstDoseByPublishDate</th>\n",
       "      <th>cumPeopleVaccinatedFirstDoseByPublishDate</th>\n",
       "      <th>newPeopleVaccinatedSecondDoseByPublishDate</th>\n",
       "      <th>cumPeopleVaccinatedSecondDoseByPublishDate</th>\n",
       "      <th>dt</th>\n",
       "    </tr>\n",
       "  </thead>\n",
       "  <tbody>\n",
       "    <tr>\n",
       "      <th>0</th>\n",
       "      <td>overview</td>\n",
       "      <td>United Kingdom</td>\n",
       "      <td>K02000001</td>\n",
       "      <td>2021-04-08</td>\n",
       "      <td>545511.0</td>\n",
       "      <td>38444540</td>\n",
       "      <td>96242.0</td>\n",
       "      <td>31903366</td>\n",
       "      <td>449269.0</td>\n",
       "      <td>6541174</td>\n",
       "      <td>2021-04-08</td>\n",
       "    </tr>\n",
       "    <tr>\n",
       "      <th>1</th>\n",
       "      <td>overview</td>\n",
       "      <td>United Kingdom</td>\n",
       "      <td>K02000001</td>\n",
       "      <td>2021-04-07</td>\n",
       "      <td>507926.0</td>\n",
       "      <td>37899029</td>\n",
       "      <td>99530.0</td>\n",
       "      <td>31807124</td>\n",
       "      <td>408396.0</td>\n",
       "      <td>6091905</td>\n",
       "      <td>2021-04-07</td>\n",
       "    </tr>\n",
       "    <tr>\n",
       "      <th>2</th>\n",
       "      <td>overview</td>\n",
       "      <td>United Kingdom</td>\n",
       "      <td>K02000001</td>\n",
       "      <td>2021-04-06</td>\n",
       "      <td>272020.0</td>\n",
       "      <td>37391103</td>\n",
       "      <td>85227.0</td>\n",
       "      <td>31707594</td>\n",
       "      <td>186793.0</td>\n",
       "      <td>5683509</td>\n",
       "      <td>2021-04-06</td>\n",
       "    </tr>\n",
       "  </tbody>\n",
       "</table>\n",
       "</div>"
      ],
      "text/plain": [
       "   areaType        areaName   areaCode        date  \\\n",
       "0  overview  United Kingdom  K02000001  2021-04-08   \n",
       "1  overview  United Kingdom  K02000001  2021-04-07   \n",
       "2  overview  United Kingdom  K02000001  2021-04-06   \n",
       "\n",
       "   newVaccinesGivenByPublishDate  cumVaccinesGivenByPublishDate  \\\n",
       "0                       545511.0                       38444540   \n",
       "1                       507926.0                       37899029   \n",
       "2                       272020.0                       37391103   \n",
       "\n",
       "   newPeopleVaccinatedFirstDoseByPublishDate  \\\n",
       "0                                    96242.0   \n",
       "1                                    99530.0   \n",
       "2                                    85227.0   \n",
       "\n",
       "   cumPeopleVaccinatedFirstDoseByPublishDate  \\\n",
       "0                                   31903366   \n",
       "1                                   31807124   \n",
       "2                                   31707594   \n",
       "\n",
       "   newPeopleVaccinatedSecondDoseByPublishDate  \\\n",
       "0                                    449269.0   \n",
       "1                                    408396.0   \n",
       "2                                    186793.0   \n",
       "\n",
       "   cumPeopleVaccinatedSecondDoseByPublishDate          dt  \n",
       "0                                     6541174  2021-04-08  \n",
       "1                                     6091905  2021-04-07  \n",
       "2                                     5683509  2021-04-06  "
      ]
     },
     "metadata": {},
     "output_type": "display_data"
    },
    {
     "name": "stdout",
     "output_type": "stream",
     "text": [
      "----\n"
     ]
    }
   ],
   "source": [
    "dframes = [dfd, dsd, dtd]\n",
    "for i in dframes:\n",
    "    display(i.head(3))\n",
    "    print(\"----\")"
   ]
  },
  {
   "cell_type": "code",
   "execution_count": 9,
   "metadata": {},
   "outputs": [
    {
     "data": {
      "text/plain": [
       "areaType                                      object\n",
       "areaName                                      object\n",
       "areaCode                                      object\n",
       "date                                          object\n",
       "newPeopleVaccinatedFirstDoseByPublishDate    float64\n",
       "cumPeopleVaccinatedFirstDoseByPublishDate      int64\n",
       "dtype: object"
      ]
     },
     "metadata": {},
     "output_type": "display_data"
    },
    {
     "name": "stdout",
     "output_type": "stream",
     "text": [
      "----\n"
     ]
    },
    {
     "data": {
      "text/plain": [
       "areaType                                       object\n",
       "areaName                                       object\n",
       "areaCode                                       object\n",
       "date                                           object\n",
       "newPeopleVaccinatedSecondDoseByPublishDate    float64\n",
       "cumPeopleVaccinatedSecondDoseByPublishDate      int64\n",
       "dtype: object"
      ]
     },
     "metadata": {},
     "output_type": "display_data"
    },
    {
     "name": "stdout",
     "output_type": "stream",
     "text": [
      "----\n"
     ]
    },
    {
     "data": {
      "text/plain": [
       "areaType                                       object\n",
       "areaName                                       object\n",
       "areaCode                                       object\n",
       "date                                           object\n",
       "newVaccinesGivenByPublishDate                 float64\n",
       "cumVaccinesGivenByPublishDate                   int64\n",
       "newPeopleVaccinatedFirstDoseByPublishDate     float64\n",
       "cumPeopleVaccinatedFirstDoseByPublishDate       int64\n",
       "newPeopleVaccinatedSecondDoseByPublishDate    float64\n",
       "cumPeopleVaccinatedSecondDoseByPublishDate      int64\n",
       "dtype: object"
      ]
     },
     "metadata": {},
     "output_type": "display_data"
    },
    {
     "name": "stdout",
     "output_type": "stream",
     "text": [
      "----\n"
     ]
    }
   ],
   "source": [
    "dframes = [dfd, dsd, dtd]\n",
    "for i in dframes:\n",
    "    display(i.dtypes)\n",
    "    print(\"----\")"
   ]
  },
  {
   "cell_type": "code",
   "execution_count": 24,
   "metadata": {},
   "outputs": [],
   "source": [
    "dframes = [dfd, dsd, dtd]\n",
    "for i in dframes:\n",
    "    i['dt'] = i['date'].apply(lambda x: datetime.strptime(x, '%Y-%m-%d').date())"
   ]
  },
  {
   "cell_type": "code",
   "execution_count": 37,
   "metadata": {},
   "outputs": [],
   "source": [
    "cols = [0,1,2,5,7,9]\n",
    "dtd.drop(dtd.columns[cols],axis=1,inplace=True)"
   ]
  },
  {
   "cell_type": "code",
   "execution_count": 66,
   "metadata": {},
   "outputs": [],
   "source": [
    "dtd = dtd.rename(columns={\"newVaccinesGivenByPublishDate\": \"total\",\\\n",
    "                    \"newPeopleVaccinatedFirstDoseByPublishDate\": \"fd\",\\\n",
    "                    \"newPeopleVaccinatedSecondDoseByPublishDate\":\"sd\"})"
   ]
  },
  {
   "cell_type": "code",
   "execution_count": 70,
   "metadata": {},
   "outputs": [],
   "source": [
    "dtd['week'] = dtd['dt'].apply(lambda x: x.isocalendar()[1])"
   ]
  },
  {
   "cell_type": "code",
   "execution_count": null,
   "metadata": {},
   "outputs": [],
   "source": [
    "# weekly max total"
   ]
  },
  {
   "cell_type": "code",
   "execution_count": 72,
   "metadata": {},
   "outputs": [
    {
     "data": {
      "text/plain": [
       "week\n",
       "1          NaN\n",
       "2     345525.0\n",
       "3     493013.0\n",
       "4     609010.0\n",
       "5     551470.0\n",
       "6     549378.0\n",
       "7     497257.0\n",
       "8     537266.0\n",
       "9     494235.0\n",
       "10    564263.0\n",
       "11    844285.0\n",
       "12    694959.0\n",
       "13    627008.0\n",
       "14    545511.0\n",
       "Name: total, dtype: float64"
      ]
     },
     "execution_count": 72,
     "metadata": {},
     "output_type": "execute_result"
    }
   ],
   "source": [
    "dtd.groupby(['week'])['total'].agg('max')"
   ]
  },
  {
   "cell_type": "code",
   "execution_count": 73,
   "metadata": {},
   "outputs": [],
   "source": [
    "import dataprep"
   ]
  },
  {
   "cell_type": "code",
   "execution_count": 80,
   "metadata": {},
   "outputs": [
    {
     "name": "stderr",
     "output_type": "stream",
     "text": [
      "generated new fontManager\n"
     ]
    },
    {
     "data": {
      "text/plain": [
       "[<matplotlib.lines.Line2D at 0x156053ef888>]"
      ]
     },
     "execution_count": 80,
     "metadata": {},
     "output_type": "execute_result"
    },
    {
     "data": {
      "image/png": "[encoded data removed]",
      "text/plain": [
       "<Figure size 432x288 with 1 Axes>"
      ]
     },
     "metadata": {
      "needs_background": "light"
     },
     "output_type": "display_data"
    }
   ],
   "source": [
    "\n",
    "plt.plot(dtd.groupby(['week'])['total'].agg('max'))"
   ]
  },
  {
   "cell_type": "code",
   "execution_count": null,
   "metadata": {},
   "outputs": [],
   "source": []
  },
  {
   "cell_type": "code",
   "execution_count": null,
   "metadata": {},
   "outputs": [],
   "source": []
  },
  {
   "cell_type": "code",
   "execution_count": null,
   "metadata": {},
   "outputs": [],
   "source": []
  },
  {
   "cell_type": "code",
   "execution_count": 76,
   "metadata": {},
   "outputs": [
    {
     "ename": "AttributeError",
     "evalue": "module 'dataprep' has no attribute 'eda'",
     "output_type": "error",
     "traceback": [
      "\u001b[1;31m---------------------------------------------------------------------------\u001b[0m",
      "\u001b[1;31mAttributeError\u001b[0m                            Traceback (most recent call last)",
      "\u001b[1;32m<ipython-input-76-468ffc6b34d1>\u001b[0m in \u001b[0;36m<module>\u001b[1;34m\u001b[0m\n\u001b[1;32m----> 1\u001b[1;33m \u001b[0mdataprep\u001b[0m\u001b[1;33m.\u001b[0m\u001b[0meda\u001b[0m\u001b[1;33m\u001b[0m\u001b[1;33m\u001b[0m\u001b[0m\n\u001b[0m",
      "\u001b[1;31mAttributeError\u001b[0m: module 'dataprep' has no attribute 'eda'"
     ]
    }
   ],
   "source": []
  },
  {
   "cell_type": "code",
   "execution_count": 71,
   "metadata": {},
   "outputs": [
    {
     "data": {
      "text/html": [
       "<div>\n",
       "<style scoped>\n",
       "    .dataframe tbody tr th:only-of-type {\n",
       "        vertical-align: middle;\n",
       "    }\n",
       "\n",
       "    .dataframe tbody tr th {\n",
       "        vertical-align: top;\n",
       "    }\n",
       "\n",
       "    .dataframe thead th {\n",
       "        text-align: right;\n",
       "    }\n",
       "</style>\n",
       "<table border=\"1\" class=\"dataframe\">\n",
       "  <thead>\n",
       "    <tr style=\"text-align: right;\">\n",
       "      <th></th>\n",
       "      <th>date</th>\n",
       "      <th>total</th>\n",
       "      <th>fd</th>\n",
       "      <th>sd</th>\n",
       "      <th>dt</th>\n",
       "      <th>week</th>\n",
       "    </tr>\n",
       "  </thead>\n",
       "  <tbody>\n",
       "    <tr>\n",
       "      <th>0</th>\n",
       "      <td>2021-04-08</td>\n",
       "      <td>545511.0</td>\n",
       "      <td>96242.0</td>\n",
       "      <td>449269.0</td>\n",
       "      <td>2021-04-08</td>\n",
       "      <td>14</td>\n",
       "    </tr>\n",
       "    <tr>\n",
       "      <th>1</th>\n",
       "      <td>2021-04-07</td>\n",
       "      <td>507926.0</td>\n",
       "      <td>99530.0</td>\n",
       "      <td>408396.0</td>\n",
       "      <td>2021-04-07</td>\n",
       "      <td>14</td>\n",
       "    </tr>\n",
       "    <tr>\n",
       "      <th>2</th>\n",
       "      <td>2021-04-06</td>\n",
       "      <td>272020.0</td>\n",
       "      <td>85227.0</td>\n",
       "      <td>186793.0</td>\n",
       "      <td>2021-04-06</td>\n",
       "      <td>14</td>\n",
       "    </tr>\n",
       "    <tr>\n",
       "      <th>3</th>\n",
       "      <td>2021-04-05</td>\n",
       "      <td>105334.0</td>\n",
       "      <td>40744.0</td>\n",
       "      <td>64590.0</td>\n",
       "      <td>2021-04-05</td>\n",
       "      <td>14</td>\n",
       "    </tr>\n",
       "    <tr>\n",
       "      <th>4</th>\n",
       "      <td>2021-04-04</td>\n",
       "      <td>95763.0</td>\n",
       "      <td>48055.0</td>\n",
       "      <td>47708.0</td>\n",
       "      <td>2021-04-04</td>\n",
       "      <td>13</td>\n",
       "    </tr>\n",
       "  </tbody>\n",
       "</table>\n",
       "</div>"
      ],
      "text/plain": [
       "         date     total       fd        sd          dt  week\n",
       "0  2021-04-08  545511.0  96242.0  449269.0  2021-04-08    14\n",
       "1  2021-04-07  507926.0  99530.0  408396.0  2021-04-07    14\n",
       "2  2021-04-06  272020.0  85227.0  186793.0  2021-04-06    14\n",
       "3  2021-04-05  105334.0  40744.0   64590.0  2021-04-05    14\n",
       "4  2021-04-04   95763.0  48055.0   47708.0  2021-04-04    13"
      ]
     },
     "execution_count": 71,
     "metadata": {},
     "output_type": "execute_result"
    }
   ],
   "source": [
    "dtd.head()"
   ]
  },
  {
   "cell_type": "code",
   "execution_count": 55,
   "metadata": {},
   "outputs": [
    {
     "data": {
      "text/plain": [
       "10"
      ]
     },
     "execution_count": 55,
     "metadata": {},
     "output_type": "execute_result"
    }
   ],
   "source": [
    "dtd.dt[25].isocalendar()[1]"
   ]
  },
  {
   "cell_type": "code",
   "execution_count": null,
   "metadata": {},
   "outputs": [],
   "source": []
  },
  {
   "cell_type": "code",
   "execution_count": null,
   "metadata": {},
   "outputs": [],
   "source": []
  },
  {
   "cell_type": "code",
   "execution_count": null,
   "metadata": {},
   "outputs": [],
   "source": []
  }
 ],
 "metadata": {
  "kernelspec": {
   "display_name": "Python 3.7.4 64-bit",
   "language": "python",
   "name": "python37464bitbe9d58b04ebc47149e3b1435f81a4b21"
  },
  "language_info": {
   "codemirror_mode": {
    "name": "ipython",
    "version": 3
   },
   "file_extension": ".py",
   "mimetype": "text/x-python",
   "name": "python",
   "nbconvert_exporter": "python",
   "pygments_lexer": "ipython3",
   "version": "3.7.4"
  }
 },
 "nbformat": 4,
 "nbformat_minor": 2
}
