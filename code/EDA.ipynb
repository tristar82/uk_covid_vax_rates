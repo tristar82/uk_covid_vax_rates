{
 "cells": [
  {
   "cell_type": "code",
   "execution_count": 1,
   "metadata": {},
   "outputs": [
    {
     "ename": "SyntaxError",
     "evalue": "invalid syntax (<ipython-input-1-e4347ddcaede>, line 1)",
     "output_type": "error",
     "traceback": [
      "\u001b[1;36m  File \u001b[1;32m\"<ipython-input-1-e4347ddcaede>\"\u001b[1;36m, line \u001b[1;32m1\u001b[0m\n\u001b[1;33m    https://www.ons.gov.uk/peoplepopulationandcommunity/populationandmigration/populationestimates/articles/overviewoftheukpopulation/january2021\u001b[0m\n\u001b[1;37m           ^\u001b[0m\n\u001b[1;31mSyntaxError\u001b[0m\u001b[1;31m:\u001b[0m invalid syntax\n"
     ]
    }
   ],
   "source": [
    "https://www.ons.gov.uk/peoplepopulationandcommunity/populationandmigration/populationestimates/articles/overviewoftheukpopulation/january2021"
   ]
  },
  {
   "cell_type": "code",
   "execution_count": 3,
   "metadata": {},
   "outputs": [],
   "source": [
    "import pandas as pd\n",
    "from datetime import datetime\n",
    "import matplotlib.pyplot as plt"
   ]
  },
  {
   "cell_type": "code",
   "execution_count": 5,
   "metadata": {},
   "outputs": [],
   "source": [
    "dfd = pd.read_csv('../data/first_dose.csv')\n",
    "dsd = pd.read_csv('../data/second_dose.csv')\n",
    "dtd = pd.read_csv('../data/total_doses.csv')\n",
    "dpop = pd.read_csv('../data/uk_population.csv')"
   ]
  },
  {
   "cell_type": "code",
   "execution_count": 6,
   "metadata": {},
   "outputs": [
    {
     "data": {
      "text/html": [
       "<div>\n",
       "<style scoped>\n",
       "    .dataframe tbody tr th:only-of-type {\n",
       "        vertical-align: middle;\n",
       "    }\n",
       "\n",
       "    .dataframe tbody tr th {\n",
       "        vertical-align: top;\n",
       "    }\n",
       "\n",
       "    .dataframe thead th {\n",
       "        text-align: right;\n",
       "    }\n",
       "</style>\n",
       "<table border=\"1\" class=\"dataframe\">\n",
       "  <thead>\n",
       "    <tr style=\"text-align: right;\">\n",
       "      <th></th>\n",
       "      <th>areaType</th>\n",
       "      <th>areaName</th>\n",
       "      <th>areaCode</th>\n",
       "      <th>date</th>\n",
       "      <th>newPeopleVaccinatedFirstDoseByPublishDate</th>\n",
       "      <th>cumPeopleVaccinatedFirstDoseByPublishDate</th>\n",
       "    </tr>\n",
       "  </thead>\n",
       "  <tbody>\n",
       "    <tr>\n",
       "      <th>0</th>\n",
       "      <td>overview</td>\n",
       "      <td>United Kingdom</td>\n",
       "      <td>K02000001</td>\n",
       "      <td>2021-04-08</td>\n",
       "      <td>96242.0</td>\n",
       "      <td>31903366</td>\n",
       "    </tr>\n",
       "    <tr>\n",
       "      <th>1</th>\n",
       "      <td>overview</td>\n",
       "      <td>United Kingdom</td>\n",
       "      <td>K02000001</td>\n",
       "      <td>2021-04-07</td>\n",
       "      <td>99530.0</td>\n",
       "      <td>31807124</td>\n",
       "    </tr>\n",
       "    <tr>\n",
       "      <th>2</th>\n",
       "      <td>overview</td>\n",
       "      <td>United Kingdom</td>\n",
       "      <td>K02000001</td>\n",
       "      <td>2021-04-06</td>\n",
       "      <td>85227.0</td>\n",
       "      <td>31707594</td>\n",
       "    </tr>\n",
       "  </tbody>\n",
       "</table>\n",
       "</div>"
      ],
      "text/plain": [
       "   areaType        areaName   areaCode        date  \\\n",
       "0  overview  United Kingdom  K02000001  2021-04-08   \n",
       "1  overview  United Kingdom  K02000001  2021-04-07   \n",
       "2  overview  United Kingdom  K02000001  2021-04-06   \n",
       "\n",
       "   newPeopleVaccinatedFirstDoseByPublishDate  \\\n",
       "0                                    96242.0   \n",
       "1                                    99530.0   \n",
       "2                                    85227.0   \n",
       "\n",
       "   cumPeopleVaccinatedFirstDoseByPublishDate  \n",
       "0                                   31903366  \n",
       "1                                   31807124  \n",
       "2                                   31707594  "
      ]
     },
     "metadata": {},
     "output_type": "display_data"
    },
    {
     "name": "stdout",
     "output_type": "stream",
     "text": [
      "----\n"
     ]
    },
    {
     "data": {
      "text/html": [
       "<div>\n",
       "<style scoped>\n",
       "    .dataframe tbody tr th:only-of-type {\n",
       "        vertical-align: middle;\n",
       "    }\n",
       "\n",
       "    .dataframe tbody tr th {\n",
       "        vertical-align: top;\n",
       "    }\n",
       "\n",
       "    .dataframe thead th {\n",
       "        text-align: right;\n",
       "    }\n",
       "</style>\n",
       "<table border=\"1\" class=\"dataframe\">\n",
       "  <thead>\n",
       "    <tr style=\"text-align: right;\">\n",
       "      <th></th>\n",
       "      <th>areaType</th>\n",
       "      <th>areaName</th>\n",
       "      <th>areaCode</th>\n",
       "      <th>date</th>\n",
       "      <th>newPeopleVaccinatedSecondDoseByPublishDate</th>\n",
       "      <th>cumPeopleVaccinatedSecondDoseByPublishDate</th>\n",
       "    </tr>\n",
       "  </thead>\n",
       "  <tbody>\n",
       "    <tr>\n",
       "      <th>0</th>\n",
       "      <td>overview</td>\n",
       "      <td>United Kingdom</td>\n",
       "      <td>K02000001</td>\n",
       "      <td>2021-04-08</td>\n",
       "      <td>449269.0</td>\n",
       "      <td>6541174</td>\n",
       "    </tr>\n",
       "    <tr>\n",
       "      <th>1</th>\n",
       "      <td>overview</td>\n",
       "      <td>United Kingdom</td>\n",
       "      <td>K02000001</td>\n",
       "      <td>2021-04-07</td>\n",
       "      <td>408396.0</td>\n",
       "      <td>6091905</td>\n",
       "    </tr>\n",
       "    <tr>\n",
       "      <th>2</th>\n",
       "      <td>overview</td>\n",
       "      <td>United Kingdom</td>\n",
       "      <td>K02000001</td>\n",
       "      <td>2021-04-06</td>\n",
       "      <td>186793.0</td>\n",
       "      <td>5683509</td>\n",
       "    </tr>\n",
       "  </tbody>\n",
       "</table>\n",
       "</div>"
      ],
      "text/plain": [
       "   areaType        areaName   areaCode        date  \\\n",
       "0  overview  United Kingdom  K02000001  2021-04-08   \n",
       "1  overview  United Kingdom  K02000001  2021-04-07   \n",
       "2  overview  United Kingdom  K02000001  2021-04-06   \n",
       "\n",
       "   newPeopleVaccinatedSecondDoseByPublishDate  \\\n",
       "0                                    449269.0   \n",
       "1                                    408396.0   \n",
       "2                                    186793.0   \n",
       "\n",
       "   cumPeopleVaccinatedSecondDoseByPublishDate  \n",
       "0                                     6541174  \n",
       "1                                     6091905  \n",
       "2                                     5683509  "
      ]
     },
     "metadata": {},
     "output_type": "display_data"
    },
    {
     "name": "stdout",
     "output_type": "stream",
     "text": [
      "----\n"
     ]
    },
    {
     "data": {
      "text/html": [
       "<div>\n",
       "<style scoped>\n",
       "    .dataframe tbody tr th:only-of-type {\n",
       "        vertical-align: middle;\n",
       "    }\n",
       "\n",
       "    .dataframe tbody tr th {\n",
       "        vertical-align: top;\n",
       "    }\n",
       "\n",
       "    .dataframe thead th {\n",
       "        text-align: right;\n",
       "    }\n",
       "</style>\n",
       "<table border=\"1\" class=\"dataframe\">\n",
       "  <thead>\n",
       "    <tr style=\"text-align: right;\">\n",
       "      <th></th>\n",
       "      <th>areaType</th>\n",
       "      <th>areaName</th>\n",
       "      <th>areaCode</th>\n",
       "      <th>date</th>\n",
       "      <th>newVaccinesGivenByPublishDate</th>\n",
       "      <th>cumVaccinesGivenByPublishDate</th>\n",
       "      <th>newPeopleVaccinatedFirstDoseByPublishDate</th>\n",
       "      <th>cumPeopleVaccinatedFirstDoseByPublishDate</th>\n",
       "      <th>newPeopleVaccinatedSecondDoseByPublishDate</th>\n",
       "      <th>cumPeopleVaccinatedSecondDoseByPublishDate</th>\n",
       "    </tr>\n",
       "  </thead>\n",
       "  <tbody>\n",
       "    <tr>\n",
       "      <th>0</th>\n",
       "      <td>overview</td>\n",
       "      <td>United Kingdom</td>\n",
       "      <td>K02000001</td>\n",
       "      <td>2021-04-08</td>\n",
       "      <td>545511.0</td>\n",
       "      <td>38444540</td>\n",
       "      <td>96242.0</td>\n",
       "      <td>31903366</td>\n",
       "      <td>449269.0</td>\n",
       "      <td>6541174</td>\n",
       "    </tr>\n",
       "    <tr>\n",
       "      <th>1</th>\n",
       "      <td>overview</td>\n",
       "      <td>United Kingdom</td>\n",
       "      <td>K02000001</td>\n",
       "      <td>2021-04-07</td>\n",
       "      <td>507926.0</td>\n",
       "      <td>37899029</td>\n",
       "      <td>99530.0</td>\n",
       "      <td>31807124</td>\n",
       "      <td>408396.0</td>\n",
       "      <td>6091905</td>\n",
       "    </tr>\n",
       "    <tr>\n",
       "      <th>2</th>\n",
       "      <td>overview</td>\n",
       "      <td>United Kingdom</td>\n",
       "      <td>K02000001</td>\n",
       "      <td>2021-04-06</td>\n",
       "      <td>272020.0</td>\n",
       "      <td>37391103</td>\n",
       "      <td>85227.0</td>\n",
       "      <td>31707594</td>\n",
       "      <td>186793.0</td>\n",
       "      <td>5683509</td>\n",
       "    </tr>\n",
       "  </tbody>\n",
       "</table>\n",
       "</div>"
      ],
      "text/plain": [
       "   areaType        areaName   areaCode        date  \\\n",
       "0  overview  United Kingdom  K02000001  2021-04-08   \n",
       "1  overview  United Kingdom  K02000001  2021-04-07   \n",
       "2  overview  United Kingdom  K02000001  2021-04-06   \n",
       "\n",
       "   newVaccinesGivenByPublishDate  cumVaccinesGivenByPublishDate  \\\n",
       "0                       545511.0                       38444540   \n",
       "1                       507926.0                       37899029   \n",
       "2                       272020.0                       37391103   \n",
       "\n",
       "   newPeopleVaccinatedFirstDoseByPublishDate  \\\n",
       "0                                    96242.0   \n",
       "1                                    99530.0   \n",
       "2                                    85227.0   \n",
       "\n",
       "   cumPeopleVaccinatedFirstDoseByPublishDate  \\\n",
       "0                                   31903366   \n",
       "1                                   31807124   \n",
       "2                                   31707594   \n",
       "\n",
       "   newPeopleVaccinatedSecondDoseByPublishDate  \\\n",
       "0                                    449269.0   \n",
       "1                                    408396.0   \n",
       "2                                    186793.0   \n",
       "\n",
       "   cumPeopleVaccinatedSecondDoseByPublishDate  \n",
       "0                                     6541174  \n",
       "1                                     6091905  \n",
       "2                                     5683509  "
      ]
     },
     "metadata": {},
     "output_type": "display_data"
    },
    {
     "name": "stdout",
     "output_type": "stream",
     "text": [
      "----\n"
     ]
    }
   ],
   "source": [
    "dframes = [dfd, dsd, dtd]\n",
    "for i in dframes:\n",
    "    display(i.head(3))\n",
    "    print(\"----\")"
   ]
  },
  {
   "cell_type": "code",
   "execution_count": 7,
   "metadata": {},
   "outputs": [
    {
     "data": {
      "text/plain": [
       "areaType                                      object\n",
       "areaName                                      object\n",
       "areaCode                                      object\n",
       "date                                          object\n",
       "newPeopleVaccinatedFirstDoseByPublishDate    float64\n",
       "cumPeopleVaccinatedFirstDoseByPublishDate      int64\n",
       "dtype: object"
      ]
     },
     "metadata": {},
     "output_type": "display_data"
    },
    {
     "name": "stdout",
     "output_type": "stream",
     "text": [
      "----\n"
     ]
    },
    {
     "data": {
      "text/plain": [
       "areaType                                       object\n",
       "areaName                                       object\n",
       "areaCode                                       object\n",
       "date                                           object\n",
       "newPeopleVaccinatedSecondDoseByPublishDate    float64\n",
       "cumPeopleVaccinatedSecondDoseByPublishDate      int64\n",
       "dtype: object"
      ]
     },
     "metadata": {},
     "output_type": "display_data"
    },
    {
     "name": "stdout",
     "output_type": "stream",
     "text": [
      "----\n"
     ]
    },
    {
     "data": {
      "text/plain": [
       "areaType                                       object\n",
       "areaName                                       object\n",
       "areaCode                                       object\n",
       "date                                           object\n",
       "newVaccinesGivenByPublishDate                 float64\n",
       "cumVaccinesGivenByPublishDate                   int64\n",
       "newPeopleVaccinatedFirstDoseByPublishDate     float64\n",
       "cumPeopleVaccinatedFirstDoseByPublishDate       int64\n",
       "newPeopleVaccinatedSecondDoseByPublishDate    float64\n",
       "cumPeopleVaccinatedSecondDoseByPublishDate      int64\n",
       "dtype: object"
      ]
     },
     "metadata": {},
     "output_type": "display_data"
    },
    {
     "name": "stdout",
     "output_type": "stream",
     "text": [
      "----\n"
     ]
    }
   ],
   "source": [
    "dframes = [dfd, dsd, dtd]\n",
    "for i in dframes:\n",
    "    display(i.dtypes)\n",
    "    print(\"----\")"
   ]
  },
  {
   "cell_type": "code",
   "execution_count": 8,
   "metadata": {},
   "outputs": [],
   "source": [
    "dframes = [dfd, dsd, dtd]\n",
    "for i in dframes:\n",
    "    i['dt'] = i['date'].apply(lambda x: datetime.strptime(x, '%Y-%m-%d').date())\n",
    "    i['week'] = i['dt'].apply(lambda x: x.isocalendar()[1])\n",
    "    i['daynum'] = i['dt'].apply(lambda x: x.weekday())\n",
    "    i['weekday'] = i['dt'].apply(lambda x: x.strftime('%A'))\n",
    "    \n",
    "    #dtd.dt[0].strftime('%A')"
   ]
  },
  {
   "cell_type": "code",
   "execution_count": 9,
   "metadata": {},
   "outputs": [],
   "source": [
    "cols = [0,1,2,5,7,9]\n",
    "dtd.drop(dtd.columns[cols],axis=1,inplace=True)"
   ]
  },
  {
   "cell_type": "code",
   "execution_count": 10,
   "metadata": {},
   "outputs": [],
   "source": [
    "dtd = dtd.rename(columns={\"newVaccinesGivenByPublishDate\": \"total\",\\\n",
    "                    \"newPeopleVaccinatedFirstDoseByPublishDate\": \"fd\",\\\n",
    "                    \"newPeopleVaccinatedSecondDoseByPublishDate\":\"sd\"})"
   ]
  },
  {
   "cell_type": "code",
   "execution_count": 11,
   "metadata": {},
   "outputs": [],
   "source": [
    "# weekly max total"
   ]
  },
  {
   "cell_type": "code",
   "execution_count": 12,
   "metadata": {},
   "outputs": [
    {
     "data": {
      "text/plain": [
       "week\n",
       "1          NaN\n",
       "2     345525.0\n",
       "3     493013.0\n",
       "4     609010.0\n",
       "5     551470.0\n",
       "6     549378.0\n",
       "7     497257.0\n",
       "8     537266.0\n",
       "9     494235.0\n",
       "10    564263.0\n",
       "11    844285.0\n",
       "12    694959.0\n",
       "13    627008.0\n",
       "14    545511.0\n",
       "Name: total, dtype: float64"
      ]
     },
     "execution_count": 12,
     "metadata": {},
     "output_type": "execute_result"
    }
   ],
   "source": [
    "dtd.groupby(['week'])['total'].agg('max')"
   ]
  },
  {
   "cell_type": "code",
   "execution_count": 13,
   "metadata": {},
   "outputs": [
    {
     "data": {
      "text/plain": [
       "[<matplotlib.lines.Line2D at 0x2aea949f3c8>]"
      ]
     },
     "execution_count": 13,
     "metadata": {},
     "output_type": "execute_result"
    },
    {
     "data": {
      "image/png": "[encoded data removed]",
      "text/plain": [
       "<Figure size 432x288 with 1 Axes>"
      ]
     },
     "metadata": {
      "needs_background": "light"
     },
     "output_type": "display_data"
    }
   ],
   "source": [
    "\n",
    "plt.plot(dtd.groupby(['week'])['total'].agg('max'))"
   ]
  },
  {
   "cell_type": "code",
   "execution_count": 14,
   "metadata": {},
   "outputs": [],
   "source": [
    "# weekly max total"
   ]
  },
  {
   "cell_type": "code",
   "execution_count": 15,
   "metadata": {
    "scrolled": true
   },
   "outputs": [
    {
     "data": {
      "text/html": [
       "<div>\n",
       "<style scoped>\n",
       "    .dataframe tbody tr th:only-of-type {\n",
       "        vertical-align: middle;\n",
       "    }\n",
       "\n",
       "    .dataframe tbody tr th {\n",
       "        vertical-align: top;\n",
       "    }\n",
       "\n",
       "    .dataframe thead th {\n",
       "        text-align: right;\n",
       "    }\n",
       "</style>\n",
       "<table border=\"1\" class=\"dataframe\">\n",
       "  <thead>\n",
       "    <tr style=\"text-align: right;\">\n",
       "      <th></th>\n",
       "      <th>date</th>\n",
       "      <th>total</th>\n",
       "      <th>fd</th>\n",
       "      <th>sd</th>\n",
       "      <th>dt</th>\n",
       "      <th>week</th>\n",
       "      <th>daynum</th>\n",
       "      <th>weekday</th>\n",
       "    </tr>\n",
       "  </thead>\n",
       "  <tbody>\n",
       "    <tr>\n",
       "      <th>0</th>\n",
       "      <td>2021-04-08</td>\n",
       "      <td>545511.0</td>\n",
       "      <td>96242.0</td>\n",
       "      <td>449269.0</td>\n",
       "      <td>2021-04-08</td>\n",
       "      <td>14</td>\n",
       "      <td>3</td>\n",
       "      <td>Thursday</td>\n",
       "    </tr>\n",
       "    <tr>\n",
       "      <th>1</th>\n",
       "      <td>2021-04-07</td>\n",
       "      <td>507926.0</td>\n",
       "      <td>99530.0</td>\n",
       "      <td>408396.0</td>\n",
       "      <td>2021-04-07</td>\n",
       "      <td>14</td>\n",
       "      <td>2</td>\n",
       "      <td>Wednesday</td>\n",
       "    </tr>\n",
       "    <tr>\n",
       "      <th>2</th>\n",
       "      <td>2021-04-06</td>\n",
       "      <td>272020.0</td>\n",
       "      <td>85227.0</td>\n",
       "      <td>186793.0</td>\n",
       "      <td>2021-04-06</td>\n",
       "      <td>14</td>\n",
       "      <td>1</td>\n",
       "      <td>Tuesday</td>\n",
       "    </tr>\n",
       "    <tr>\n",
       "      <th>3</th>\n",
       "      <td>2021-04-05</td>\n",
       "      <td>105334.0</td>\n",
       "      <td>40744.0</td>\n",
       "      <td>64590.0</td>\n",
       "      <td>2021-04-05</td>\n",
       "      <td>14</td>\n",
       "      <td>0</td>\n",
       "      <td>Monday</td>\n",
       "    </tr>\n",
       "  </tbody>\n",
       "</table>\n",
       "</div>"
      ],
      "text/plain": [
       "         date     total       fd        sd          dt  week  daynum  \\\n",
       "0  2021-04-08  545511.0  96242.0  449269.0  2021-04-08    14       3   \n",
       "1  2021-04-07  507926.0  99530.0  408396.0  2021-04-07    14       2   \n",
       "2  2021-04-06  272020.0  85227.0  186793.0  2021-04-06    14       1   \n",
       "3  2021-04-05  105334.0  40744.0   64590.0  2021-04-05    14       0   \n",
       "\n",
       "     weekday  \n",
       "0   Thursday  \n",
       "1  Wednesday  \n",
       "2    Tuesday  \n",
       "3     Monday  "
      ]
     },
     "execution_count": 15,
     "metadata": {},
     "output_type": "execute_result"
    }
   ],
   "source": [
    "dtd.head(4)"
   ]
  },
  {
   "cell_type": "code",
   "execution_count": 16,
   "metadata": {},
   "outputs": [
    {
     "data": {
      "text/plain": [
       "[<matplotlib.lines.Line2D at 0x2aeab618588>]"
      ]
     },
     "execution_count": 16,
     "metadata": {},
     "output_type": "execute_result"
    },
    {
     "data": {
      "image/png": "[encoded data removed]",
      "text/plain": [
       "<Figure size 432x288 with 1 Axes>"
      ]
     },
     "metadata": {
      "needs_background": "light"
     },
     "output_type": "display_data"
    }
   ],
   "source": [
    "plt.plot(dtd.groupby(['daynum'])['total'].agg('max'))"
   ]
  },
  {
   "cell_type": "code",
   "execution_count": 17,
   "metadata": {},
   "outputs": [
    {
     "data": {
      "text/html": [
       "<div>\n",
       "<style scoped>\n",
       "    .dataframe tbody tr th:only-of-type {\n",
       "        vertical-align: middle;\n",
       "    }\n",
       "\n",
       "    .dataframe tbody tr th {\n",
       "        vertical-align: top;\n",
       "    }\n",
       "\n",
       "    .dataframe thead th {\n",
       "        text-align: right;\n",
       "    }\n",
       "</style>\n",
       "<table border=\"1\" class=\"dataframe\">\n",
       "  <thead>\n",
       "    <tr style=\"text-align: right;\">\n",
       "      <th></th>\n",
       "      <th>daynum</th>\n",
       "      <th>day_max</th>\n",
       "    </tr>\n",
       "  </thead>\n",
       "  <tbody>\n",
       "    <tr>\n",
       "      <th>0</th>\n",
       "      <td>0</td>\n",
       "      <td>440051.0</td>\n",
       "    </tr>\n",
       "    <tr>\n",
       "      <th>1</th>\n",
       "      <td>1</td>\n",
       "      <td>529119.0</td>\n",
       "    </tr>\n",
       "    <tr>\n",
       "      <th>2</th>\n",
       "      <td>2</td>\n",
       "      <td>627008.0</td>\n",
       "    </tr>\n",
       "    <tr>\n",
       "      <th>3</th>\n",
       "      <td>3</td>\n",
       "      <td>660276.0</td>\n",
       "    </tr>\n",
       "    <tr>\n",
       "      <th>4</th>\n",
       "      <td>4</td>\n",
       "      <td>740655.0</td>\n",
       "    </tr>\n",
       "    <tr>\n",
       "      <th>5</th>\n",
       "      <td>5</td>\n",
       "      <td>844285.0</td>\n",
       "    </tr>\n",
       "    <tr>\n",
       "      <th>6</th>\n",
       "      <td>6</td>\n",
       "      <td>441142.0</td>\n",
       "    </tr>\n",
       "  </tbody>\n",
       "</table>\n",
       "</div>"
      ],
      "text/plain": [
       "   daynum   day_max\n",
       "0       0  440051.0\n",
       "1       1  529119.0\n",
       "2       2  627008.0\n",
       "3       3  660276.0\n",
       "4       4  740655.0\n",
       "5       5  844285.0\n",
       "6       6  441142.0"
      ]
     },
     "execution_count": 17,
     "metadata": {},
     "output_type": "execute_result"
    }
   ],
   "source": [
    "df_daily_max = pd.DataFrame(dtd.groupby(['daynum'])['total'].agg('max')).reset_index()\n",
    "df_daily_max.rename(columns={'total': 'day_max'}, inplace=True)\n",
    "df_daily_max"
   ]
  },
  {
   "cell_type": "code",
   "execution_count": 18,
   "metadata": {},
   "outputs": [],
   "source": [
    "dtd = pd.merge(dtd, df_daily_max, on='daynum')"
   ]
  },
  {
   "cell_type": "code",
   "execution_count": 19,
   "metadata": {},
   "outputs": [
    {
     "data": {
      "text/html": [
       "<div>\n",
       "<style scoped>\n",
       "    .dataframe tbody tr th:only-of-type {\n",
       "        vertical-align: middle;\n",
       "    }\n",
       "\n",
       "    .dataframe tbody tr th {\n",
       "        vertical-align: top;\n",
       "    }\n",
       "\n",
       "    .dataframe thead th {\n",
       "        text-align: right;\n",
       "    }\n",
       "</style>\n",
       "<table border=\"1\" class=\"dataframe\">\n",
       "  <thead>\n",
       "    <tr style=\"text-align: right;\">\n",
       "      <th></th>\n",
       "      <th>date</th>\n",
       "      <th>total</th>\n",
       "      <th>fd</th>\n",
       "      <th>sd</th>\n",
       "      <th>dt</th>\n",
       "      <th>week</th>\n",
       "      <th>daynum</th>\n",
       "      <th>weekday</th>\n",
       "      <th>day_max</th>\n",
       "    </tr>\n",
       "  </thead>\n",
       "  <tbody>\n",
       "    <tr>\n",
       "      <th>0</th>\n",
       "      <td>2021-04-08</td>\n",
       "      <td>545511.0</td>\n",
       "      <td>96242.0</td>\n",
       "      <td>449269.0</td>\n",
       "      <td>2021-04-08</td>\n",
       "      <td>14</td>\n",
       "      <td>3</td>\n",
       "      <td>Thursday</td>\n",
       "      <td>660276.0</td>\n",
       "    </tr>\n",
       "    <tr>\n",
       "      <th>1</th>\n",
       "      <td>2021-04-01</td>\n",
       "      <td>616234.0</td>\n",
       "      <td>170818.0</td>\n",
       "      <td>445416.0</td>\n",
       "      <td>2021-04-01</td>\n",
       "      <td>13</td>\n",
       "      <td>3</td>\n",
       "      <td>Thursday</td>\n",
       "      <td>660276.0</td>\n",
       "    </tr>\n",
       "    <tr>\n",
       "      <th>2</th>\n",
       "      <td>2021-03-25</td>\n",
       "      <td>559324.0</td>\n",
       "      <td>324942.0</td>\n",
       "      <td>234382.0</td>\n",
       "      <td>2021-03-25</td>\n",
       "      <td>12</td>\n",
       "      <td>3</td>\n",
       "      <td>Thursday</td>\n",
       "      <td>660276.0</td>\n",
       "    </tr>\n",
       "    <tr>\n",
       "      <th>3</th>\n",
       "      <td>2021-03-18</td>\n",
       "      <td>660276.0</td>\n",
       "      <td>528260.0</td>\n",
       "      <td>132016.0</td>\n",
       "      <td>2021-03-18</td>\n",
       "      <td>11</td>\n",
       "      <td>3</td>\n",
       "      <td>Thursday</td>\n",
       "      <td>660276.0</td>\n",
       "    </tr>\n",
       "    <tr>\n",
       "      <th>4</th>\n",
       "      <td>2021-03-11</td>\n",
       "      <td>354372.0</td>\n",
       "      <td>260809.0</td>\n",
       "      <td>93563.0</td>\n",
       "      <td>2021-03-11</td>\n",
       "      <td>10</td>\n",
       "      <td>3</td>\n",
       "      <td>Thursday</td>\n",
       "      <td>660276.0</td>\n",
       "    </tr>\n",
       "    <tr>\n",
       "      <th>...</th>\n",
       "      <td>...</td>\n",
       "      <td>...</td>\n",
       "      <td>...</td>\n",
       "      <td>...</td>\n",
       "      <td>...</td>\n",
       "      <td>...</td>\n",
       "      <td>...</td>\n",
       "      <td>...</td>\n",
       "      <td>...</td>\n",
       "    </tr>\n",
       "    <tr>\n",
       "      <th>84</th>\n",
       "      <td>2021-02-12</td>\n",
       "      <td>549378.0</td>\n",
       "      <td>544603.0</td>\n",
       "      <td>4775.0</td>\n",
       "      <td>2021-02-12</td>\n",
       "      <td>6</td>\n",
       "      <td>4</td>\n",
       "      <td>Friday</td>\n",
       "      <td>740655.0</td>\n",
       "    </tr>\n",
       "    <tr>\n",
       "      <th>85</th>\n",
       "      <td>2021-02-05</td>\n",
       "      <td>498227.0</td>\n",
       "      <td>494163.0</td>\n",
       "      <td>4064.0</td>\n",
       "      <td>2021-02-05</td>\n",
       "      <td>5</td>\n",
       "      <td>4</td>\n",
       "      <td>Friday</td>\n",
       "      <td>740655.0</td>\n",
       "    </tr>\n",
       "    <tr>\n",
       "      <th>86</th>\n",
       "      <td>2021-01-29</td>\n",
       "      <td>489934.0</td>\n",
       "      <td>487756.0</td>\n",
       "      <td>2178.0</td>\n",
       "      <td>2021-01-29</td>\n",
       "      <td>4</td>\n",
       "      <td>4</td>\n",
       "      <td>Friday</td>\n",
       "      <td>740655.0</td>\n",
       "    </tr>\n",
       "    <tr>\n",
       "      <th>87</th>\n",
       "      <td>2021-01-22</td>\n",
       "      <td>480069.0</td>\n",
       "      <td>478248.0</td>\n",
       "      <td>1821.0</td>\n",
       "      <td>2021-01-22</td>\n",
       "      <td>3</td>\n",
       "      <td>4</td>\n",
       "      <td>Friday</td>\n",
       "      <td>740655.0</td>\n",
       "    </tr>\n",
       "    <tr>\n",
       "      <th>88</th>\n",
       "      <td>2021-01-15</td>\n",
       "      <td>345525.0</td>\n",
       "      <td>341317.0</td>\n",
       "      <td>4208.0</td>\n",
       "      <td>2021-01-15</td>\n",
       "      <td>2</td>\n",
       "      <td>4</td>\n",
       "      <td>Friday</td>\n",
       "      <td>740655.0</td>\n",
       "    </tr>\n",
       "  </tbody>\n",
       "</table>\n",
       "<p>89 rows × 9 columns</p>\n",
       "</div>"
      ],
      "text/plain": [
       "          date     total        fd        sd          dt  week  daynum  \\\n",
       "0   2021-04-08  545511.0   96242.0  449269.0  2021-04-08    14       3   \n",
       "1   2021-04-01  616234.0  170818.0  445416.0  2021-04-01    13       3   \n",
       "2   2021-03-25  559324.0  324942.0  234382.0  2021-03-25    12       3   \n",
       "3   2021-03-18  660276.0  528260.0  132016.0  2021-03-18    11       3   \n",
       "4   2021-03-11  354372.0  260809.0   93563.0  2021-03-11    10       3   \n",
       "..         ...       ...       ...       ...         ...   ...     ...   \n",
       "84  2021-02-12  549378.0  544603.0    4775.0  2021-02-12     6       4   \n",
       "85  2021-02-05  498227.0  494163.0    4064.0  2021-02-05     5       4   \n",
       "86  2021-01-29  489934.0  487756.0    2178.0  2021-01-29     4       4   \n",
       "87  2021-01-22  480069.0  478248.0    1821.0  2021-01-22     3       4   \n",
       "88  2021-01-15  345525.0  341317.0    4208.0  2021-01-15     2       4   \n",
       "\n",
       "     weekday   day_max  \n",
       "0   Thursday  660276.0  \n",
       "1   Thursday  660276.0  \n",
       "2   Thursday  660276.0  \n",
       "3   Thursday  660276.0  \n",
       "4   Thursday  660276.0  \n",
       "..       ...       ...  \n",
       "84    Friday  740655.0  \n",
       "85    Friday  740655.0  \n",
       "86    Friday  740655.0  \n",
       "87    Friday  740655.0  \n",
       "88    Friday  740655.0  \n",
       "\n",
       "[89 rows x 9 columns]"
      ]
     },
     "execution_count": 19,
     "metadata": {},
     "output_type": "execute_result"
    }
   ],
   "source": [
    "dtd"
   ]
  },
  {
   "cell_type": "code",
   "execution_count": 20,
   "metadata": {},
   "outputs": [],
   "source": [
    "dtd_ts = dtd[['dt','total','day_max']]"
   ]
  },
  {
   "cell_type": "code",
   "execution_count": 21,
   "metadata": {},
   "outputs": [
    {
     "data": {
      "text/html": [
       "<div>\n",
       "<style scoped>\n",
       "    .dataframe tbody tr th:only-of-type {\n",
       "        vertical-align: middle;\n",
       "    }\n",
       "\n",
       "    .dataframe tbody tr th {\n",
       "        vertical-align: top;\n",
       "    }\n",
       "\n",
       "    .dataframe thead th {\n",
       "        text-align: right;\n",
       "    }\n",
       "</style>\n",
       "<table border=\"1\" class=\"dataframe\">\n",
       "  <thead>\n",
       "    <tr style=\"text-align: right;\">\n",
       "      <th></th>\n",
       "      <th>dt</th>\n",
       "      <th>total</th>\n",
       "      <th>day_max</th>\n",
       "    </tr>\n",
       "  </thead>\n",
       "  <tbody>\n",
       "    <tr>\n",
       "      <th>0</th>\n",
       "      <td>2021-04-08</td>\n",
       "      <td>545511.0</td>\n",
       "      <td>660276.0</td>\n",
       "    </tr>\n",
       "    <tr>\n",
       "      <th>1</th>\n",
       "      <td>2021-04-01</td>\n",
       "      <td>616234.0</td>\n",
       "      <td>660276.0</td>\n",
       "    </tr>\n",
       "    <tr>\n",
       "      <th>2</th>\n",
       "      <td>2021-03-25</td>\n",
       "      <td>559324.0</td>\n",
       "      <td>660276.0</td>\n",
       "    </tr>\n",
       "    <tr>\n",
       "      <th>3</th>\n",
       "      <td>2021-03-18</td>\n",
       "      <td>660276.0</td>\n",
       "      <td>660276.0</td>\n",
       "    </tr>\n",
       "    <tr>\n",
       "      <th>4</th>\n",
       "      <td>2021-03-11</td>\n",
       "      <td>354372.0</td>\n",
       "      <td>660276.0</td>\n",
       "    </tr>\n",
       "    <tr>\n",
       "      <th>...</th>\n",
       "      <td>...</td>\n",
       "      <td>...</td>\n",
       "      <td>...</td>\n",
       "    </tr>\n",
       "    <tr>\n",
       "      <th>84</th>\n",
       "      <td>2021-02-12</td>\n",
       "      <td>549378.0</td>\n",
       "      <td>740655.0</td>\n",
       "    </tr>\n",
       "    <tr>\n",
       "      <th>85</th>\n",
       "      <td>2021-02-05</td>\n",
       "      <td>498227.0</td>\n",
       "      <td>740655.0</td>\n",
       "    </tr>\n",
       "    <tr>\n",
       "      <th>86</th>\n",
       "      <td>2021-01-29</td>\n",
       "      <td>489934.0</td>\n",
       "      <td>740655.0</td>\n",
       "    </tr>\n",
       "    <tr>\n",
       "      <th>87</th>\n",
       "      <td>2021-01-22</td>\n",
       "      <td>480069.0</td>\n",
       "      <td>740655.0</td>\n",
       "    </tr>\n",
       "    <tr>\n",
       "      <th>88</th>\n",
       "      <td>2021-01-15</td>\n",
       "      <td>345525.0</td>\n",
       "      <td>740655.0</td>\n",
       "    </tr>\n",
       "  </tbody>\n",
       "</table>\n",
       "<p>89 rows × 3 columns</p>\n",
       "</div>"
      ],
      "text/plain": [
       "            dt     total   day_max\n",
       "0   2021-04-08  545511.0  660276.0\n",
       "1   2021-04-01  616234.0  660276.0\n",
       "2   2021-03-25  559324.0  660276.0\n",
       "3   2021-03-18  660276.0  660276.0\n",
       "4   2021-03-11  354372.0  660276.0\n",
       "..         ...       ...       ...\n",
       "84  2021-02-12  549378.0  740655.0\n",
       "85  2021-02-05  498227.0  740655.0\n",
       "86  2021-01-29  489934.0  740655.0\n",
       "87  2021-01-22  480069.0  740655.0\n",
       "88  2021-01-15  345525.0  740655.0\n",
       "\n",
       "[89 rows x 3 columns]"
      ]
     },
     "execution_count": 21,
     "metadata": {},
     "output_type": "execute_result"
    }
   ],
   "source": [
    "dtd_ts"
   ]
  },
  {
   "cell_type": "code",
   "execution_count": 22,
   "metadata": {},
   "outputs": [],
   "source": [
    "# working with prophet"
   ]
  },
  {
   "cell_type": "code",
   "execution_count": 23,
   "metadata": {},
   "outputs": [
    {
     "ename": "ModuleNotFoundError",
     "evalue": "No module named 'Prophet'",
     "output_type": "error",
     "traceback": [
      "\u001b[1;31m---------------------------------------------------------------------------\u001b[0m",
      "\u001b[1;31mModuleNotFoundError\u001b[0m                       Traceback (most recent call last)",
      "\u001b[1;32m<ipython-input-23-5333adef0c2a>\u001b[0m in \u001b[0;36m<module>\u001b[1;34m\u001b[0m\n\u001b[0;32m      1\u001b[0m \u001b[1;31m#from prophet\u001b[0m\u001b[1;33m\u001b[0m\u001b[1;33m\u001b[0m\u001b[1;33m\u001b[0m\u001b[0m\n\u001b[1;32m----> 2\u001b[1;33m \u001b[1;32mimport\u001b[0m \u001b[0mProphet\u001b[0m\u001b[1;33m\u001b[0m\u001b[1;33m\u001b[0m\u001b[0m\n\u001b[0m",
      "\u001b[1;31mModuleNotFoundError\u001b[0m: No module named 'Prophet'"
     ]
    }
   ],
   "source": [
    "\n",
    "#from prophet \n",
    "import Prophet\n"
   ]
  },
  {
   "cell_type": "code",
   "execution_count": null,
   "metadata": {},
   "outputs": [],
   "source": [
    "print(\"hello\")"
   ]
  },
  {
   "cell_type": "code",
   "execution_count": null,
   "metadata": {},
   "outputs": [],
   "source": []
  },
  {
   "cell_type": "code",
   "execution_count": null,
   "metadata": {},
   "outputs": [],
   "source": []
  },
  {
   "cell_type": "code",
   "execution_count": null,
   "metadata": {},
   "outputs": [],
   "source": []
  },
  {
   "cell_type": "code",
   "execution_count": null,
   "metadata": {},
   "outputs": [],
   "source": []
  },
  {
   "cell_type": "code",
   "execution_count": null,
   "metadata": {
    "scrolled": true
   },
   "outputs": [],
   "source": []
  },
  {
   "cell_type": "code",
   "execution_count": null,
   "metadata": {},
   "outputs": [],
   "source": [
    "dtd.head()"
   ]
  },
  {
   "cell_type": "code",
   "execution_count": null,
   "metadata": {},
   "outputs": [],
   "source": [
    "dtd.dt[25].isocalendar()[1]"
   ]
  },
  {
   "cell_type": "code",
   "execution_count": null,
   "metadata": {},
   "outputs": [],
   "source": [
    "https://coronavirus.data.gov.uk/api/v1/data?filters=areaType=overview&structure=%7B%22areaType%22:%22areaType%22,%22areaName%22:%22areaName%22,%22areaCode%22:%22areaCode%22,%22date%22:%22date%22,%22newPeopleVaccinatedFirstDoseByPublishDate%22:%22newPeopleVaccinatedFirstDoseByPublishDate%22,%22cumPeopleVaccinatedFirstDoseByPublishDate%22:%22cumPeopleVaccinatedFirstDoseByPublishDate%22%7D&format=csv\n",
    "                            "
   ]
  },
  {
   "cell_type": "code",
   "execution_count": null,
   "metadata": {},
   "outputs": [],
   "source": []
  },
  {
   "cell_type": "code",
   "execution_count": null,
   "metadata": {},
   "outputs": [],
   "source": []
  }
 ],
 "metadata": {
  "kernelspec": {
   "display_name": "Python 3.7.4 64-bit",
   "language": "python",
   "name": "python37464bitbe9d58b04ebc47149e3b1435f81a4b21"
  },
  "language_info": {
   "codemirror_mode": {
    "name": "ipython",
    "version": 3
   },
   "file_extension": ".py",
   "mimetype": "text/x-python",
   "name": "python",
   "nbconvert_exporter": "python",
   "pygments_lexer": "ipython3",
   "version": "3.7.4"
  }
 },
 "nbformat": 4,
 "nbformat_minor": 2
}
